{
 "cells": [
  {
   "cell_type": "code",
   "execution_count": 1,
   "metadata": {},
   "outputs": [],
   "source": [
    "# imports\n",
    "import matplotlib.pyplot as plt\n",
    "%matplotlib inline\n",
    "import numpy as np\n",
    "import pandas as pd\n",
    "import copy\n",
    "\n",
    "%load_ext autoreload\n",
    "%autoreload 2\n",
    "\n",
    "np.set_printoptions(precision=4)\n",
    "\n",
    "from sklearn.ensemble import RandomForestRegressor\n",
    "from sklearn.impute import SimpleImputer\n",
    "from sklearn.preprocessing import StandardScaler\n",
    "from sklearn.base import BaseEstimator, RegressorMixin\n",
    "from sklearn.linear_model import LinearRegression, RidgeCV\n",
    "from sklearn.pipeline import make_pipeline\n",
    "from sklearn.preprocessing import OneHotEncoder\n",
    "from sklearn.compose import ColumnTransformer"
   ]
  },
  {
   "cell_type": "code",
   "execution_count": 2,
   "metadata": {},
   "outputs": [],
   "source": [
    "from fairness import * \n",
    "from get_data import get_adult, get_bank, get_gk_bank, get_gk_adult"
   ]
  },
  {
   "cell_type": "code",
   "execution_count": 44,
   "metadata": {},
   "outputs": [
    {
     "name": "stdout",
     "output_type": "stream",
     "text": [
      "(32560, 123) (16280, 123)\n"
     ]
    },
    {
     "name": "stderr",
     "output_type": "stream",
     "text": [
      "/home/thomas/anaconda3/lib/python3.7/site-packages/pandas/core/indexing.py:190: SettingWithCopyWarning: \n",
      "A value is trying to be set on a copy of a slice from a DataFrame\n",
      "\n",
      "See the caveats in the documentation: http://pandas.pydata.org/pandas-docs/stable/indexing.html#indexing-view-versus-copy\n",
      "  self._setitem_with_indexer(indexer, value)\n"
     ]
    }
   ],
   "source": [
    "X_train, y_train, X_test, y_test = get_adult()\n",
    "Gk = get_gk_adult(X_train)\n",
    "Gk_test = get_gk_adult(X_test)"
   ]
  },
  {
   "cell_type": "code",
   "execution_count": 36,
   "metadata": {},
   "outputs": [
    {
     "name": "stdout",
     "output_type": "stream",
     "text": [
      "age quantile = [31.0, 35.0, 39.0, 45.0, 52.0]\n",
      "age quantile = [31.0, 35.0, 39.0, 45.0, 52.0]\n"
     ]
    }
   ],
   "source": [
    "X_train, y_train, X_test, y_test = get_bank()\n",
    "Gk = get_gk_bank(X_train)\n",
    "Gk_test = get_gk_bank(X_test)"
   ]
  },
  {
   "cell_type": "code",
   "execution_count": 45,
   "metadata": {},
   "outputs": [
    {
     "name": "stdout",
     "output_type": "stream",
     "text": [
      "1 \t 0.7977886977886978\n"
     ]
    }
   ],
   "source": [
    "from sklearn.linear_model import LogisticRegression\n",
    "\n",
    "for cc in [1]: #[0.00001, .0001, .001,.01,.1,1000000,1]\n",
    "    lr = LogisticRegression(penalty='l2', C=1, max_iter=100)\n",
    "    lr.fit(X_train, y_train)\n",
    "    print(cc, '\\t', lr.score(X_test, y_test))\n",
    "    \n",
    "y_pred = lr.predict(X_test)"
   ]
  },
  {
   "cell_type": "code",
   "execution_count": 6,
   "metadata": {},
   "outputs": [
    {
     "name": "stdout",
     "output_type": "stream",
     "text": [
      "--------- G ------------\n",
      "Error (1-Acc.): 0.1063\n",
      "[[0.8631 0.028 ]\n",
      " [0.0782 0.0306]]\n",
      "% of positive preds = 0.05866076369673492\n",
      "--------- ~G ------------\n",
      "Error (1-Acc.): 0.2501\n",
      "[[0.6731 0.0271]\n",
      " [0.223  0.0768]]\n",
      "% of positive preds = 0.10387696841329773\n",
      "--------- all ------------\n",
      "Error (1-Acc.): 0.2022\n",
      "[[0.7364 0.0274]\n",
      " [0.1748 0.0614]]\n",
      "% of positive preds = 0.08882063882063881\n",
      ".\n",
      "\n",
      "fair Demo. Parity =\t -0.03016\n",
      "fair Equal Opp.   =\t 0.0\n"
     ]
    },
    {
     "name": "stderr",
     "output_type": "stream",
     "text": [
      "/home/thomas/anaconda3/lib/python3.7/site-packages/pandas/core/computation/expressions.py:183: UserWarning: evaluating in Python space because the '*' operator is not supported by numexpr for the bool dtype, use '&' instead\n",
      "  .format(op=op_str, alt_op=unsupported[op_str]))\n"
     ]
    },
    {
     "data": {
      "text/plain": [
       "(-0.030159875123903893, 1.3111506011899998e-06)"
      ]
     },
     "execution_count": 6,
     "metadata": {},
     "output_type": "execute_result"
    }
   ],
   "source": [
    "# G_test = X_test['sex_Female']\n",
    "# G_test = X_test['relationship'] == 'Wife'\n",
    "# G_test = X_test['sex'] == 'Male'\n",
    "# G_test = X_test_ohe['fnlwgt'] % 7 == 0\n",
    "\n",
    "# G_test = X_test['age'] > 52\n",
    "# fairness(y_pred, y_test, G_test, verbose=True)"
   ]
  },
  {
   "cell_type": "code",
   "execution_count": 50,
   "metadata": {},
   "outputs": [
    {
     "name": "stdout",
     "output_type": "stream",
     "text": [
      "0 1 2 3 "
     ]
    }
   ],
   "source": [
    "Gk = [Gk[0]]\n",
    "Gk_test = [Gk_test[0]]\n",
    "\n",
    "# init params\n",
    "K = len(Gk)\n",
    "lambda_ = [0] * K\n",
    "lr = LogisticRegression(penalty='l2', C=1, max_iter=100, n_jobs=-1)\n",
    "lr.fit(X_train, y_train)\n",
    "\n",
    "l_lambda = []\n",
    "l_delta = []\n",
    "l_w = []\n",
    "l_score = []\n",
    "l_score_train = []\n",
    "for t in range(4):\n",
    "    print(t, end=' ')\n",
    "    delta = fairness_error(lr, X_train, y_train, Gk, notion='dp')  # k-vectors\n",
    "    l_delta.append(delta)\n",
    "    lambda_ = lambda_ - delta  # k-vectors\n",
    "    l_lambda.append(lambda_)\n",
    "    w = get_w(lambda_, Gk, y_train)\n",
    "    l_w.append(w)\n",
    "    lr = LogisticRegression(penalty='l2', C=1, max_iter=100, n_jobs=-1)\n",
    "    lr.fit(X_train, y_train, sample_weight=w)\n",
    "    l_score_train.append(show_score(lr.predict(X_train), y_train, Gk[0]))\n",
    "    l_score.append(show_score(lr.predict(X_test), y_test, Gk_test[0]))"
   ]
  },
  {
   "cell_type": "code",
   "execution_count": 48,
   "metadata": {},
   "outputs": [
    {
     "name": "stdout",
     "output_type": "stream",
     "text": [
      "-3.0; (32560,)\n",
      "-2.5789473684210527; (32560,)\n",
      "-2.1578947368421053; (32560,)\n",
      "-1.736842105263158; (32560,)\n",
      "-1.3157894736842106; (32560,)\n",
      "-0.8947368421052633; (32560,)\n",
      "-0.47368421052631593; (32560,)\n",
      "-0.052631578947368585; (32560,)\n"
     ]
    },
    {
     "name": "stderr",
     "output_type": "stream",
     "text": [
      "/home/thomas/Documents/scikit-learn/sklearn/linear_model/logistic.py:932: ConvergenceWarning: lbfgs failed to converge (status=1): b'STOP: TOTAL NO. of ITERATIONS REACHED LIMIT'. Increase the number of iterations.\n",
      "  n_iter_i = _check_optimize_result(solver, opt_res, max_iter)\n"
     ]
    },
    {
     "name": "stdout",
     "output_type": "stream",
     "text": [
      "0.36842105263157876; (32560,)\n",
      "0.7894736842105261; (32560,)\n",
      "1.2105263157894735; (32560,)\n",
      "1.6315789473684212; (32560,)\n",
      "2.052631578947368; (32560,)\n",
      "2.473684210526315; (32560,)\n",
      "2.894736842105263; (32560,)\n"
     ]
    },
    {
     "name": "stderr",
     "output_type": "stream",
     "text": [
      "/home/thomas/Documents/scikit-learn/sklearn/linear_model/logistic.py:932: ConvergenceWarning: lbfgs failed to converge (status=1): b'STOP: TOTAL NO. of ITERATIONS REACHED LIMIT'. Increase the number of iterations.\n",
      "  n_iter_i = _check_optimize_result(solver, opt_res, max_iter)\n"
     ]
    },
    {
     "name": "stdout",
     "output_type": "stream",
     "text": [
      "3.3157894736842106; (32560,)\n",
      "3.7368421052631575; (32560,)\n",
      "4.157894736842104; (32560,)\n",
      "4.578947368421052; (32560,)\n",
      "5.0; (32560,)\n"
     ]
    }
   ],
   "source": [
    "Gk = [Gk[0]]\n",
    "Gk_test = [Gk_test[0]]\n",
    "\n",
    "# init params\n",
    "K = len(Gk)\n",
    "lambda_ = [0] * K\n",
    "lr = LogisticRegression(penalty='l2', C=1, max_iter=100, n_jobs=-1)\n",
    "lr.fit(X_train, y_train)\n",
    "\n",
    "l_lambda = []\n",
    "l_delta = []\n",
    "l_w = []\n",
    "l_score = []\n",
    "l_score_train = []\n",
    "\n",
    "\n",
    "for t in np.linspace(-3, 5, num=50):\n",
    "    print(t, end='; ')\n",
    "#     delta = fairness_error(lr, X_train, y_train, Gk, notion='dp')  # k-vectors\n",
    "#     l_delta.append(delta)\n",
    "    lambda_ = [t] #lambda_ - delta  # k-vectors\n",
    "    l_lambda.append(lambda_)\n",
    "    w = get_w(lambda_, Gk, y_train)\n",
    "    l_w.append(w)\n",
    "    lr.fit(X_train, y_train, sample_weight=w)\n",
    "    l_score_train.append(show_score(lr.predict(X_train), y_train, Gk[0]))\n",
    "    l_score.append(show_score(lr.predict(X_test), y_test, Gk_test[0]))"
   ]
  },
  {
   "cell_type": "code",
   "execution_count": 51,
   "metadata": {},
   "outputs": [
    {
     "data": {
      "text/plain": [
       "<matplotlib.legend.Legend at 0x7f4fb61deac8>"
      ]
     },
     "execution_count": 51,
     "metadata": {},
     "output_type": "execute_result"
    },
    {
     "data": {
      "image/png": "[encoded data removed]",
      "text/plain": [
       "<Figure size 432x288 with 1 Axes>"
      ]
     },
     "metadata": {
      "needs_background": "light"
     },
     "output_type": "display_data"
    },
    {
     "data": {
      "image/png": "[encoded data removed]",
      "text/plain": [
       "<Figure size 432x288 with 1 Axes>"
      ]
     },
     "metadata": {
      "needs_background": "light"
     },
     "output_type": "display_data"
    },
    {
     "data": {
      "image/png": "[encoded data removed]",
      "text/plain": [
       "<Figure size 432x288 with 1 Axes>"
      ]
     },
     "metadata": {
      "needs_background": "light"
     },
     "output_type": "display_data"
    }
   ],
   "source": [
    "plt.plot(l_lambda, label='lambda_')\n",
    "plt.legend()\n",
    "\n",
    "plt.figure()\n",
    "for i in range(4):\n",
    "    plt.plot([x[i] for x in l_score], label = ['err_G', 'err', 'fair_dp', 'fair_eop'][i])\n",
    "plt.legend()\n",
    "\n",
    "plt.figure()\n",
    "for i in range(4):\n",
    "    plt.plot([x[i] for x in l_score_train], label = ['err_G', 'err', 'fair_dp', 'fair_eop'][i])\n",
    "plt.legend()"
   ]
  },
  {
   "cell_type": "code",
   "execution_count": null,
   "metadata": {},
   "outputs": [],
   "source": []
  }
 ],
 "metadata": {
  "kernelspec": {
   "display_name": "Python 3",
   "language": "python",
   "name": "python3"
  },
  "language_info": {
   "codemirror_mode": {
    "name": "ipython",
    "version": 3
   },
   "file_extension": ".py",
   "mimetype": "text/x-python",
   "name": "python",
   "nbconvert_exporter": "python",
   "pygments_lexer": "ipython3",
   "version": "3.7.3"
  }
 },
 "nbformat": 4,
 "nbformat_minor": 4
}
